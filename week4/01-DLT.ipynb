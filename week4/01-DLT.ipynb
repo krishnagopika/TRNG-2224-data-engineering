{
 "cells": [
  {
   "cell_type": "markdown",
   "metadata": {
    "application/vnd.databricks.v1+cell": {
     "cellMetadata": {
      "byteLimit": 2048000,
      "rowLimit": 10000
     },
     "inputWidgets": {},
     "nuid": "71179564-bc75-4191-bc1c-02fd2ce276fa",
     "showTitle": false,
     "tableResultSettingsMap": {},
     "title": ""
    }
   },
   "source": [
    "# Declarative Pipelines – Delta Live Tables\n",
    "\n",
    "- Simplified pipeline authoring in Python and SQL\n",
    "- Automated scaling and recovery\n",
    "- Unified batch and streaming data processing\n",
    "- Flow: Lakeflow Connect → Lakeflow Declarative Pipelines  \n",
    "  (Bronze → Silver → Gold)\n",
    "  - Bronze: Streaming Table\n",
    "  - Silver: Streaming Table\n",
    "  - Gold: Materialized Views\n",
    "- Supports incremental processing\n",
    "\n",
    "\n",
    "## Dataset Types Overview\n",
    "\n",
    "### Streaming Table\n",
    "\n",
    "- Supports both batch and streaming for incremental data processing.\n",
    "- Each time it is refreshed, new data added to the source is appended.\n",
    "- Uses `read_files()` to trigger Auto Loader functionality with checkpointing.\n",
    "\n",
    "### Materialized View\n",
    "\n",
    "- Recalculates query results on each update to reflect upstream changes.\n",
    "- Automatically created and maintained by the pipeline.\n",
    "- Incremental refresh supported (serverless only).\n",
    "- Use Cases:\n",
    "  - Transformations\n",
    "  - Aggregations\n",
    "  - Pre-computing slow queries\n",
    "  - Frequently reused computations\n",
    "\n",
    "### Views\n",
    "\n",
    "#### Temporary View\n",
    "\n",
    "- Lives for the lifetime of the pipeline.\n",
    "- Not registered to Unity Catalog.\n",
    "- Used for intermediate queries within a pipeline.\n",
    "\n",
    "#### Registered View\n",
    "\n",
    "- Virtual table based on the result-set of a SQL query.\n",
    "- Registered to Unity Catalog (only in UC pipelines).\n",
    "- Does not support streaming queries.\n",
    "\n",
    "\n",
    "## Pipeline Settings\n",
    "\n",
    "### Compute Options\n",
    "\n",
    "- **Serverless**: Enables incremental refresh of materialized views.\n",
    "- **Classic**: Fixed-size compute cluster.\n",
    "- **Autoscaling**: Scales compute resources automatically.\n",
    "\n",
    "### Code Assets\n",
    "\n",
    "- Root folder contains pipeline code.\n",
    "- Each subfolder or file is treated as a source asset.\n",
    "- `main` folder often used for primary logic.\n",
    "\n",
    "### Configuration\n",
    "\n",
    "- Support for pipeline-level parameters (key-value pairs).\n",
    "- Parameters can be used in Python and SQL code for dynamic configuration."
   ]
  },
  {
   "cell_type": "code",
   "execution_count": 0,
   "metadata": {
    "application/vnd.databricks.v1+cell": {
     "cellMetadata": {},
     "inputWidgets": {},
     "nuid": "d35d9aee-45b6-4513-a741-fbd18879c3f6",
     "showTitle": false,
     "tableResultSettingsMap": {},
     "title": ""
    }
   },
   "outputs": [],
   "source": []
  }
 ],
 "metadata": {
  "application/vnd.databricks.v1+notebook": {
   "computePreferences": null,
   "dashboards": [],
   "environmentMetadata": {
    "base_environment": "",
    "environment_version": "2"
   },
   "inputWidgetPreferences": null,
   "language": "python",
   "notebookMetadata": {
    "pythonIndentUnit": 4
   },
   "notebookName": "01-DLT",
   "widgets": {}
  },
  "language_info": {
   "name": "python"
  }
 },
 "nbformat": 4,
 "nbformat_minor": 0
}
