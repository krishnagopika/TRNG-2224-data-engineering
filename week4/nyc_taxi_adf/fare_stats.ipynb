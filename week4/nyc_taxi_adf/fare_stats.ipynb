{
 "cells": [
  {
   "cell_type": "code",
   "execution_count": 0,
   "metadata": {
    "application/vnd.databricks.v1+cell": {
     "cellMetadata": {},
     "inputWidgets": {},
     "nuid": "00ad3cba-6a17-44cf-847c-947f5323622e",
     "showTitle": false,
     "tableResultSettingsMap": {},
     "title": ""
    }
   },
   "outputs": [],
   "source": [
    "from pyspark.sql.functions import avg, round\n",
    "\n",
    "df = spark.read.table(\"trng2224_trng2223_shared_demo_workspace.default.silver_taxi\").groupBy(\"trip_date\").agg(\n",
    "    round(avg(\"fare_amount\"), 2).alias(\"avg_fare\"),\n",
    "    round(avg(\"tip_amount\"), 2).alias(\"avg_tip\")\n",
    ")\n",
    "\n",
    "df.write.mode(\"overwrite\").format(\"delta\").saveAsTable(\"fare_stats\")\n"
   ]
  }
 ],
 "metadata": {
  "application/vnd.databricks.v1+notebook": {
   "computePreferences": null,
   "dashboards": [],
   "environmentMetadata": {
    "base_environment": "",
    "environment_version": "2"
   },
   "inputWidgetPreferences": null,
   "language": "python",
   "notebookMetadata": {
    "pythonIndentUnit": 4
   },
   "notebookName": "fare_stats",
   "widgets": {}
  },
  "language_info": {
   "name": "python"
  }
 },
 "nbformat": 4,
 "nbformat_minor": 0
}
