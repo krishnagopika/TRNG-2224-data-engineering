{
 "cells": [
  {
   "cell_type": "code",
   "execution_count": 0,
   "metadata": {
    "application/vnd.databricks.v1+cell": {
     "cellMetadata": {},
     "inputWidgets": {},
     "nuid": "f5044747-edc0-409e-bf14-f67a70aaad2f",
     "showTitle": false,
     "tableResultSettingsMap": {},
     "title": ""
    }
   },
   "outputs": [],
   "source": [
    "spark.conf.set(\n",
    "    \"fs.azure.account.key.nyctaxidatatrng2224.dfs.core.windows.net\",\n",
    "    dbutils.secrets.get(scope=\"azure-df\", key=\"sa-trng-2224\"))\n",
    "\n",
    "destination_path = dbutils.widgets.get(\"destination_path\")"
   ]
  },
  {
   "cell_type": "code",
   "execution_count": 0,
   "metadata": {
    "application/vnd.databricks.v1+cell": {
     "cellMetadata": {},
     "inputWidgets": {},
     "nuid": "24fdb248-90d8-48e7-b693-1a9a0b9e1e49",
     "showTitle": false,
     "tableResultSettingsMap": {},
     "title": ""
    }
   },
   "outputs": [],
   "source": [
    "\n",
    "trip_df = spark.read.table(\"trng2224_trng2223_shared_demo_workspace.default.trip_stats\")\n",
    "fare_df = spark.read.table(\"trng2224_trng2223_shared_demo_workspace.default.fare_stats\")\n",
    "\n",
    "report_df = trip_df.join(fare_df, on=\"trip_date\", how=\"inner\")\n",
    "report_df.write.mode(\"overwrite\").parquet(destination_path)\n"
   ]
  }
 ],
 "metadata": {
  "application/vnd.databricks.v1+notebook": {
   "computePreferences": null,
   "dashboards": [],
   "environmentMetadata": {
    "base_environment": "",
    "environment_version": "2"
   },
   "inputWidgetPreferences": null,
   "language": "python",
   "notebookMetadata": {
    "pythonIndentUnit": 4
   },
   "notebookName": "gold_summary",
   "widgets": {}
  },
  "language_info": {
   "name": "python"
  }
 },
 "nbformat": 4,
 "nbformat_minor": 0
}
