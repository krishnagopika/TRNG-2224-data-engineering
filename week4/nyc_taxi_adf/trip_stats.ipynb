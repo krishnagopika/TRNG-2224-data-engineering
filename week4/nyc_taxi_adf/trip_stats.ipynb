{
 "cells": [
  {
   "cell_type": "code",
   "execution_count": 0,
   "metadata": {
    "application/vnd.databricks.v1+cell": {
     "cellMetadata": {},
     "inputWidgets": {},
     "nuid": "188459bc-c2c9-44eb-bc35-5235fb8951d3",
     "showTitle": false,
     "tableResultSettingsMap": {},
     "title": ""
    }
   },
   "outputs": [],
   "source": [
    "from pyspark.sql.functions import count, avg, round\n",
    "\n",
    "df = spark.read.table(\"trng2224_trng2223_shared_demo_workspace.default.silver_taxi\").groupBy(\"trip_date\").agg(\n",
    "    count(\"*\").alias(\"total_trips\"),\n",
    "    round(avg(\"trip_duration_seconds\"), 2).alias(\"avg_duration_secs\")\n",
    ")\n",
    "\n",
    "df.write.mode(\"overwrite\").format(\"delta\").saveAsTable(\"trip_stats\")\n"
   ]
  }
 ],
 "metadata": {
  "application/vnd.databricks.v1+notebook": {
   "computePreferences": null,
   "dashboards": [],
   "environmentMetadata": {
    "base_environment": "",
    "environment_version": "2"
   },
   "inputWidgetPreferences": null,
   "language": "python",
   "notebookMetadata": {
    "pythonIndentUnit": 4
   },
   "notebookName": "trip_stats",
   "widgets": {}
  },
  "language_info": {
   "name": "python"
  }
 },
 "nbformat": 4,
 "nbformat_minor": 0
}
