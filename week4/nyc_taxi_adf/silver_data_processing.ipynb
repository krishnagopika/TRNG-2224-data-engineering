{
 "cells": [
  {
   "cell_type": "code",
   "execution_count": 0,
   "metadata": {
    "application/vnd.databricks.v1+cell": {
     "cellMetadata": {},
     "inputWidgets": {},
     "nuid": "de33e839-4f35-4492-bb8b-61c7e037075d",
     "showTitle": false,
     "tableResultSettingsMap": {},
     "title": ""
    }
   },
   "outputs": [],
   "source": [
    "from pyspark.sql.functions import col, unix_timestamp, to_date, dayofweek\n",
    "\n",
    "\n",
    "df = spark.read.table(\"trng2224_trng2223_shared_demo_workspace.default.bronze_taxi\").filter(\n",
    "    col(\"tpep_pickup_datetime\").isNotNull() & col(\"tpep_dropoff_datetime\").isNotNull()\n",
    ")\n",
    "\n",
    "df = df.withColumn(\"trip_duration_seconds\", unix_timestamp(\"tpep_dropoff_datetime\") - unix_timestamp(\"tpep_pickup_datetime\")) \\\n",
    "       .withColumn(\"trip_date\", to_date(\"tpep_pickup_datetime\")) \\\n",
    "       .withColumn(\"pickup_day_of_week\", dayofweek(\"tpep_pickup_datetime\"))\n",
    "\n",
    "df.write.mode(\"overwrite\").format(\"delta\").saveAsTable(\"silver_taxi\")"
   ]
  }
 ],
 "metadata": {
  "application/vnd.databricks.v1+notebook": {
   "computePreferences": null,
   "dashboards": [],
   "environmentMetadata": {
    "base_environment": "",
    "environment_version": "2"
   },
   "inputWidgetPreferences": null,
   "language": "python",
   "notebookMetadata": {
    "pythonIndentUnit": 4
   },
   "notebookName": "silver_data_processing",
   "widgets": {}
  },
  "language_info": {
   "name": "python"
  }
 },
 "nbformat": 4,
 "nbformat_minor": 0
}
