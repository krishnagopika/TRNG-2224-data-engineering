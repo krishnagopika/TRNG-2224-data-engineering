{
 "cells": [
  {
   "cell_type": "code",
   "execution_count": 0,
   "metadata": {
    "application/vnd.databricks.v1+cell": {
     "cellMetadata": {},
     "inputWidgets": {},
     "nuid": "6f8688a5-26a5-44f1-b2a1-2665d5b13ad8",
     "showTitle": false,
     "tableResultSettingsMap": {},
     "title": ""
    }
   },
   "outputs": [],
   "source": [
    "from pyspark.sql.functions import count, avg, round\n",
    "\n",
    "df = spark.read.table(\"workspace.default.silver_taxi\").groupBy(\"trip_date\").agg(\n",
    "    count(\"*\").alias(\"total_trips\"),\n",
    "    round(avg(\"trip_duration_seconds\"), 2).alias(\"avg_duration_secs\")\n",
    ")\n",
    "\n",
    "df.write.mode(\"overwrite\").format(\"delta\").saveAsTable(\"trip_stats\")\n"
   ]
  }
 ],
 "metadata": {
  "application/vnd.databricks.v1+notebook": {
   "computePreferences": null,
   "dashboards": [],
   "environmentMetadata": {
    "base_environment": "",
    "environment_version": "2"
   },
   "inputWidgetPreferences": null,
   "language": "python",
   "notebookMetadata": {
    "pythonIndentUnit": 4
   },
   "notebookName": "trip_stats",
   "widgets": {}
  },
  "language_info": {
   "name": "python"
  }
 },
 "nbformat": 4,
 "nbformat_minor": 0
}
