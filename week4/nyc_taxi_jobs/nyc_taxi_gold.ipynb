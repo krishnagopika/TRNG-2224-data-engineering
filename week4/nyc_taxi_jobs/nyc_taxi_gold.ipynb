{
 "cells": [
  {
   "cell_type": "code",
   "execution_count": 0,
   "metadata": {
    "application/vnd.databricks.v1+cell": {
     "cellMetadata": {},
     "inputWidgets": {},
     "nuid": "59f15989-7a50-48cd-9bc7-dcce7b951e7f",
     "showTitle": false,
     "tableResultSettingsMap": {},
     "title": ""
    }
   },
   "outputs": [],
   "source": [
    "\n",
    "trip_df = spark.read.table(\"workspace.default.trip_stats\")\n",
    "fare_df = spark.read.table(\"workspace.default.fare_stats\")\n",
    "\n",
    "report_df = trip_df.join(fare_df, on=\"trip_date\", how=\"inner\")\n",
    "report_df.write.mode(\"overwrite\").format(\"delta\").saveAsTable(\"gold_summary\")\n"
   ]
  }
 ],
 "metadata": {
  "application/vnd.databricks.v1+notebook": {
   "computePreferences": null,
   "dashboards": [],
   "environmentMetadata": {
    "base_environment": "",
    "environment_version": "2"
   },
   "inputWidgetPreferences": null,
   "language": "python",
   "notebookMetadata": {
    "pythonIndentUnit": 4
   },
   "notebookName": "nyc_taxi_gold",
   "widgets": {}
  },
  "language_info": {
   "name": "python"
  }
 },
 "nbformat": 4,
 "nbformat_minor": 0
}
