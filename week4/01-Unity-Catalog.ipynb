{
 "cells": [
  {
   "cell_type": "markdown",
   "metadata": {
    "application/vnd.databricks.v1+cell": {
     "cellMetadata": {},
     "inputWidgets": {},
     "nuid": "7a44f3e0-8008-48d8-b98b-d318ca0f1c22",
     "showTitle": false,
     "tableResultSettingsMap": {},
     "title": ""
    }
   },
   "source": [
    "# Unity Catalog\n",
    "\n",
    "- open souce, interoperable and unified\n",
    "- unified governance across clouds: fine-grained governance for data lakes cross clouds.\n",
    "- unified data and AI assets: share, audit, secure and manage all data types with one simple interface.\n",
    "- unify existing catalogs: works in cocert with existing data, storage and catalogs.\n",
    "\n",
    "![databricks metastore](./images/databricks-uc.png)\n",
    "\n",
    "###  Metastore\n",
    "\n",
    "- cloud region\n",
    "  - storage - like s3 or azure blob storage\n",
    "  - access - IAM\n",
    "- workspaces\n",
    "- control plane(metadata - ACL) and data plane(storage)\n",
    "- acceesible to account admin\n",
    "\n",
    "#### Catalog\n",
    "\n",
    "- used to partition dataset\n",
    "- namespace\n",
    "- for backword compatability there is a legacy hive_metastore for every workspace\n",
    "- repos schemata\n",
    "\n",
    "#### Schema (database)\n",
    "\n",
    "- repositories of tabels, views, volumes, functions and models\n",
    "\n",
    "\n",
    "#### tabels\n",
    "\n",
    "- managed table - UC manages everything; even cloud storage.\n",
    "  - discards metadata and deletes the associated data when table is dropped\n",
    "  - format is delta\n",
    "  - comes with new features, performance, simplicity, stricter access\n",
    "- external table - external cloud location\n",
    "  - discards meteadata only. does not dete the data\n",
    "  - the path specified bt the `LOCATION` keyword\n",
    "  - manually manages\n",
    "  - format can be DELTA, CSV, JSON, AVRO, and PARQUET etc.,\n",
    "\n",
    "\n",
    "#### Views\n",
    "\n",
    "- pointing to underlying tabels\n",
    "\n",
    "\n",
    "#### Volumes\n",
    "\n",
    "- for non tabular data\n",
    "- store and access files in any format, including structured, semi-sturtured and un-structured. \n",
    "\n",
    "\n",
    "#### SQL functions\n",
    "\n",
    "- custom functions \n",
    "- UDFs\n",
    "\n",
    "#### Models\n",
    "\n",
    "- ML models\n",
    "\n",
    "\n",
    "#### Three-Level Namespace\n",
    "\n",
    "- modifing the traditional ANSI SQL two level namespace to three level\n",
    "- `catalog.schema.object`\n",
    "\n",
    "\n",
    "#### accessing external storage\n",
    "\n",
    "- storage credential \n",
    "- external access\n",
    "\n",
    "\n",
    "\n",
    "**references:**\n",
    "\n",
    "- [database objects](https://docs.databricks.com/aws/en/database-objects/)\n",
    "- [unity catalog](https://www.databricks.com/product/unity-catalog)\n",
    "\n",
    "\n",
    "\n"
   ]
  },
  {
   "cell_type": "code",
   "execution_count": 0,
   "metadata": {
    "application/vnd.databricks.v1+cell": {
     "cellMetadata": {
      "byteLimit": 2048000,
      "implicitDf": true,
      "rowLimit": 10000
     },
     "inputWidgets": {},
     "nuid": "3a7d4edd-8e6e-4a9e-86a4-43e8a77924a1",
     "showTitle": false,
     "tableResultSettingsMap": {},
     "title": ""
    }
   },
   "outputs": [],
   "source": [
    "%sql\n",
    "DROP TABLE IF EXISTS default.users;\n",
    "\n",
    "CREATE TABLE default.users (\n",
    "  id INT,\n",
    "  first_name STRING,\n",
    "  last_name STRING,\n",
    "  email STRING,\n",
    "  hashed_password STRING,\n",
    "  last_updated TIMESTAMP\n",
    "\n",
    "\n",
    ")\n",
    "LOCATION 's3://databricks-external-storage-2224/output/';\n"
   ]
  },
  {
   "cell_type": "code",
   "execution_count": 0,
   "metadata": {
    "application/vnd.databricks.v1+cell": {
     "cellMetadata": {
      "byteLimit": 2048000,
      "implicitDf": true,
      "rowLimit": 10000
     },
     "inputWidgets": {},
     "nuid": "a42c30ce-0176-4ad5-9582-1d6e4938a633",
     "showTitle": false,
     "tableResultSettingsMap": {},
     "title": ""
    }
   },
   "outputs": [],
   "source": [
    "%sql\n",
    "INSERT INTO default.users VALUES\n",
    "(1, 'Alice', 'Smith', 'alice@example.com', 'hashed_pwd_123', current_timestamp()),\n",
    "(2, 'Bob', 'Johnson', 'bob@example.com', 'hashed_pwd_456', current_timestamp());\n"
   ]
  },
  {
   "cell_type": "code",
   "execution_count": 0,
   "metadata": {
    "application/vnd.databricks.v1+cell": {
     "cellMetadata": {
      "byteLimit": 2048000,
      "implicitDf": true,
      "rowLimit": 10000
     },
     "inputWidgets": {},
     "nuid": "0a001076-c23e-4256-a9c6-1bf9f6e3cafb",
     "showTitle": false,
     "tableResultSettingsMap": {},
     "title": ""
    }
   },
   "outputs": [],
   "source": [
    "%sql\n",
    "DESCRIBE DETAIL default.users;"
   ]
  },
  {
   "cell_type": "code",
   "execution_count": 0,
   "metadata": {
    "application/vnd.databricks.v1+cell": {
     "cellMetadata": {
      "byteLimit": 2048000,
      "implicitDf": true,
      "rowLimit": 10000
     },
     "inputWidgets": {},
     "nuid": "0117fe56-3a27-48fa-b654-95c3f00b0199",
     "showTitle": false,
     "tableResultSettingsMap": {},
     "title": ""
    }
   },
   "outputs": [],
   "source": [
    "%sql\n",
    "DESCRIBE HISTORY default.users"
   ]
  },
  {
   "cell_type": "code",
   "execution_count": 0,
   "metadata": {
    "application/vnd.databricks.v1+cell": {
     "cellMetadata": {
      "byteLimit": 2048000,
      "implicitDf": true,
      "rowLimit": 10000
     },
     "inputWidgets": {},
     "nuid": "dfaa15c2-f3c2-4f11-8259-ac9dee1fd748",
     "showTitle": false,
     "tableResultSettingsMap": {},
     "title": ""
    }
   },
   "outputs": [],
   "source": [
    "%sql\n",
    "DROP TABLE default.users;"
   ]
  }
 ],
 "metadata": {
  "application/vnd.databricks.v1+notebook": {
   "computePreferences": null,
   "dashboards": [],
   "environmentMetadata": {
    "base_environment": "",
    "environment_version": "2"
   },
   "inputWidgetPreferences": null,
   "language": "python",
   "notebookMetadata": {
    "mostRecentlyExecutedCommandWithImplicitDF": {
     "commandId": 5594670077602398,
     "dataframes": [
      "_sqldf"
     ]
    },
    "pythonIndentUnit": 4
   },
   "notebookName": "01-Unity-Catalog",
   "widgets": {}
  },
  "language_info": {
   "name": "python"
  }
 },
 "nbformat": 4,
 "nbformat_minor": 0
}
