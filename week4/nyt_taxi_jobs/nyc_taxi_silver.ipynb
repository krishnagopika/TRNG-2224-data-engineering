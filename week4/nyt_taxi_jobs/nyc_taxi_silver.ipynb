{
 "cells": [
  {
   "cell_type": "code",
   "execution_count": 0,
   "metadata": {
    "application/vnd.databricks.v1+cell": {
     "cellMetadata": {
      "byteLimit": 2048000,
      "rowLimit": 10000
     },
     "inputWidgets": {},
     "nuid": "991b152b-76f1-49b9-bfe7-dea5e05381df",
     "showTitle": false,
     "tableResultSettingsMap": {},
     "title": ""
    }
   },
   "outputs": [],
   "source": [
    "from pyspark.sql.functions import col, unix_timestamp, to_date, dayofweek\n",
    "from pyspark.sql import SparkSession\n",
    "\n",
    "spark = SparkSession.builder.getOrCreate()\n",
    "\n",
    "df = spark.read.table(\"workspace.default.bronze_taxi\").filter(\n",
    "    col(\"tpep_pickup_datetime\").isNotNull() & col(\"tpep_dropoff_datetime\").isNotNull()\n",
    ")\n",
    "\n",
    "df = df.withColumn(\"trip_duration_seconds\", unix_timestamp(\"tpep_dropoff_datetime\") - unix_timestamp(\"tpep_pickup_datetime\")) \\\n",
    "       .withColumn(\"trip_date\", to_date(\"tpep_pickup_datetime\")) \\\n",
    "       .withColumn(\"pickup_day_of_week\", dayofweek(\"tpep_pickup_datetime\"))\n",
    "\n",
    "df.write.mode(\"overwrite\").format(\"delta\").saveAsTable(\"silver_taxi\")\n"
   ]
  }
 ],
 "metadata": {
  "application/vnd.databricks.v1+notebook": {
   "computePreferences": null,
   "dashboards": [],
   "environmentMetadata": {
    "base_environment": "",
    "environment_version": "2"
   },
   "inputWidgetPreferences": null,
   "language": "python",
   "notebookMetadata": {
    "pythonIndentUnit": 4
   },
   "notebookName": "nyc_taxi_silver",
   "widgets": {}
  },
  "language_info": {
   "name": "python"
  }
 },
 "nbformat": 4,
 "nbformat_minor": 0
}
